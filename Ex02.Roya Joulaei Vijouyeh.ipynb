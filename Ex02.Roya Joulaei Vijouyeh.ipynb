{
 "cells": [
  {
   "cell_type": "markdown",
   "id": "6fab7d3d",
   "metadata": {},
   "source": [
    "02.1"
   ]
  },
  {
   "cell_type": "code",
   "execution_count": 17,
   "id": "b030ef18",
   "metadata": {},
   "outputs": [
    {
     "name": "stdout",
     "output_type": "stream",
     "text": [
      "1\n",
      "0\n",
      "1\n",
      "0\n",
      "Binary 10 as decimal: 2\n",
      "1\n",
      "0\n",
      "1\n",
      "0\n",
      "Decimal 10 as binary: None\n",
      "Decimal 10 as hexadecimal: a\n",
      "Hexadecimal 10 as decimal: 16\n"
     ]
    }
   ],
   "source": [
    "def decimal_to_binary(n):\n",
    "    if n >= 1:\n",
    "        decimal_to_binary(n// 2)\n",
    "        print (n % 2) \n",
    "\n",
    "decimal_to_binary(n)\n",
    "n=10   \n",
    "\n",
    "def binary_to_decimal(n) :\n",
    "    v = [int(x) for x in str(n)]\n",
    "    v = v[::-1]\n",
    "    d = 0\n",
    "    for i in range(0,len(v)):\n",
    "        d += pow(2,i)*v[i]\n",
    "    return(d)\n",
    "\n",
    "def Decimal_to_Hex(n):\n",
    "    v = []\n",
    "    while n > 0:    \n",
    "        r = n%16    \n",
    "        if   r == 10: r = 'a'\n",
    "        elif r == 11: r = 'b'\n",
    "        elif r == 12: r = 'c'\n",
    "        elif r == 13: r = 'd'\n",
    "        elif r == 14: r = 'e'\n",
    "        elif r == 15: r = 'f'\n",
    "        v.append(r)\n",
    "        n = n//16\n",
    "    v = v[::-1]\n",
    "    h = \"\".join(map(str,v))\n",
    "    return(h)\n",
    "\n",
    "def Hex_to_Decimal(n):\n",
    "    v =[int(x) for x in str(n)]\n",
    "    v = v[::-1]\n",
    "    d = 0\n",
    "    for i in range(0,len(v)):\n",
    "        if   v[i] == 'a': v[i] = 10\n",
    "        elif v[i] == 'b': v[i] == 11 \n",
    "        elif v[i] == 'c': v[i] == 12\n",
    "        elif v[i] == 'd': v[i] == 13\n",
    "        elif v[i] == 'e': v[i] == 14\n",
    "        elif v[i] == 'f': v[i] == 15\n",
    "        d += pow(16,i)*v[i]\n",
    "    return(d)\n",
    "\n",
    "n = 10\n",
    "\n",
    "print(\"Binary 10 as decimal:\", binary_to_decimal(n))\n",
    "print(\"Decimal 10 as binary:\", decimal_to_binary(n))\n",
    "print(\"Decimal 10 as hexadecimal:\", Decimal_to_Hex(n))\n",
    "print(\"Hexadecimal 10 as decimal:\", Hex_to_Decimal(n))"
   ]
  },
  {
   "cell_type": "markdown",
   "id": "b504ea7a",
   "metadata": {},
   "source": [
    "02.2"
   ]
  },
  {
   "cell_type": "code",
   "execution_count": 25,
   "id": "e7b85f71",
   "metadata": {},
   "outputs": [
    {
     "name": "stdout",
     "output_type": "stream",
     "text": [
      "11000000101100000000000000000000\n",
      "32\n"
     ]
    },
    {
     "data": {
      "text/plain": [
       "'-2.703637006891261e-38'"
      ]
     },
     "execution_count": 25,
     "metadata": {},
     "output_type": "execute_result"
    }
   ],
   "source": [
    "def convert(word):\n",
    "    print(word)\n",
    "    word=word[::-1]\n",
    "    print(len(word))\n",
    "    segno=word[31]\n",
    "    e=int(word[24:31],2)\n",
    "    bias=127\n",
    "    esp=e-bias\n",
    "    mantissa=int(word[0:24],2)\n",
    "    number = (1+ mantissa*0.1)*2**esp\n",
    "    if segno=='0':\n",
    "        return '+'+str(number)\n",
    "    else:\n",
    "        return '-'+str(number)\n",
    "\n",
    "convert(\"11000000101100000000000000000000\")"
   ]
  },
  {
   "cell_type": "markdown",
   "id": "a91a24f1",
   "metadata": {},
   "source": [
    "02.3"
   ]
  },
  {
   "cell_type": "code",
   "execution_count": 20,
   "id": "b4a530a0",
   "metadata": {},
   "outputs": [
    {
     "name": "stdout",
     "output_type": "stream",
     "text": [
      "0.0\n",
      "1075\n",
      "inf\n",
      "1024\n",
      "179769313486231590772930519078902473361797697894230657273430081157732675805500963132708477322407536021120113879871393357658789768814416622492847430639474124377767893424865485276302219601246094119453082952085005768838150682342462881473913110540827237163350510684586298239947245938479716304835356329624224137216\n"
     ]
    }
   ],
   "source": [
    "detect_under=float(1)\n",
    "detect_over=float(1)\n",
    "i=0\n",
    "m=0\n",
    "while detect_under>0:\n",
    "    i +=1\n",
    "    detect_under=detect_under/2\n",
    "print(detect_under)\n",
    "print(i)\n",
    "\n",
    "while detect_over<float('Inf'):\n",
    "    m+=1\n",
    "    detect_over=detect_over*2\n",
    "    \n",
    "print(detect_over)\n",
    "print(m)\n",
    "print(2**m)\n"
   ]
  },
  {
   "cell_type": "markdown",
   "id": "a3265e66",
   "metadata": {},
   "source": [
    "02.4"
   ]
  },
  {
   "cell_type": "code",
   "execution_count": 27,
   "id": "eb1fe872",
   "metadata": {},
   "outputs": [
    {
     "name": "stdout",
     "output_type": "stream",
     "text": [
      "The machine precision is 1.1102230246251565e-16\n"
     ]
    }
   ],
   "source": [
    "start = 1\n",
    "add = 1 \n",
    "\n",
    "while True:\n",
    "    add /= 2 \n",
    "    if start + add == start:\n",
    "        print(\"The machine precision is {}\".format(add))\n",
    "        break\n"
   ]
  },
  {
   "cell_type": "markdown",
   "id": "7800ce8a",
   "metadata": {},
   "source": [
    "02.5"
   ]
  },
  {
   "cell_type": "code",
   "execution_count": 30,
   "id": "e5daf302",
   "metadata": {},
   "outputs": [
    {
     "name": "stdout",
     "output_type": "stream",
     "text": [
      "Enter the coefficients of a: 1\n",
      "Enter the coefficients of b: 4\n",
      "Enter the coefficients of c: 2\n",
      "This equation has two solutions:  -0.5857864376269049  or -3.414213562373095\n",
      "None\n",
      "This equation has two solutions:  -9.999894245993346e-07  or -999999.999999\n",
      "part(a) : None\n"
     ]
    }
   ],
   "source": [
    "import math\n",
    "a = int(input(\"Enter the coefficients of a: \"))\n",
    "b = int(input(\"Enter the coefficients of b: \"))\n",
    "c = int(input(\"Enter the coefficients of c: \"))\n",
    "\n",
    "d = b**2-4*a*c # discriminant\n",
    "def equation(a,b,c,d):\n",
    "    if d < 0:\n",
    "        print (\"This equation has no real solution\")\n",
    "    elif d == 0:\n",
    "        x = (-b)/2*a\n",
    "        print (\"This equation has one solutions: \"), x\n",
    "    else:\n",
    "        x1 = (-b+math.sqrt((b**2)-(4*(a*c))))/(2*a)\n",
    "        x2 = (-b-math.sqrt((b**2)-(4*(a*c))))/(2*a)\n",
    "        print (\"This equation has two solutions: \", x1, \" or\", x2)\n",
    "print(equation(a,b,c,d))\n",
    "#part(a)\n",
    "a=0.001\n",
    "b=1000\n",
    "c=0.001\n",
    "print(\"part(a) :\",equation(a,b,c,d))\n"
   ]
  },
  {
   "cell_type": "markdown",
   "id": "f1726e0f",
   "metadata": {},
   "source": [
    "02.6"
   ]
  },
  {
   "cell_type": "code",
   "execution_count": 2,
   "id": "95bb3802",
   "metadata": {},
   "outputs": [
    {
     "name": "stdout",
     "output_type": "stream",
     "text": [
      "1.01000000000000\n",
      "0.0100009999999989\n",
      "0.000100000100002876\n",
      "1.00000001502476e-6\n",
      "1.00000008284037e-8\n",
      "9.99977878280879e-11\n",
      "9.99200722162651e-13\n"
     ]
    }
   ],
   "source": [
    "def f(x):\n",
    "    return x*(x-1)\n",
    "\n",
    "\n",
    "\n",
    "from sympy import limit, Symbol\n",
    "\n",
    "x = Symbol('x')\n",
    "deltas=[10**-2,10**-4,10**-6,10**-8,10**-10,10**-12,10**-14]\n",
    "for i in  deltas:\n",
    "    y=(f(x+i) -f(x))/10**-2\n",
    "    print(limit(y, x,1) )"
   ]
  },
  {
   "cell_type": "code",
   "execution_count": null,
   "id": "6df06be9",
   "metadata": {},
   "outputs": [],
   "source": []
  }
 ],
 "metadata": {
  "kernelspec": {
   "display_name": "Python 3",
   "language": "python",
   "name": "python3"
  },
  "language_info": {
   "codemirror_mode": {
    "name": "ipython",
    "version": 3
   },
   "file_extension": ".py",
   "mimetype": "text/x-python",
   "name": "python",
   "nbconvert_exporter": "python",
   "pygments_lexer": "ipython3",
   "version": "3.8.8"
  }
 },
 "nbformat": 4,
 "nbformat_minor": 5
}
