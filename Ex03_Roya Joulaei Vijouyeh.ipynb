{
 "cells": [
  {
   "cell_type": "markdown",
   "id": "9962fca6",
   "metadata": {},
   "source": [
    "02.1"
   ]
  },
  {
   "cell_type": "code",
   "execution_count": 1,
   "id": "78bcc176",
   "metadata": {},
   "outputs": [
    {
     "name": "stdout",
     "output_type": "stream",
     "text": [
      "[[ 0  1  2  3]\n",
      " [ 4  5  6  7]\n",
      " [ 8  9 10 11]]\n",
      "rows are like= [0 1 2 3]\n",
      "rows are like= [4 5 6 7]\n",
      "rows are like= [ 8  9 10 11]\n",
      "columns are like= [0 4 8]\n",
      "columns are like= [1 5 9]\n",
      "columns are like= [ 2  6 10]\n",
      "columns are like= [ 3  7 11]\n",
      "[[ 0  1  2  3]\n",
      " [ 4  5  6  7]\n",
      " [ 8  9 10 11]] \n",
      "\n",
      "Column-wise mean:  [4. 5. 6. 7.]\n",
      "Row-wise mean:  [1.5 5.5 9.5]\n",
      "Overall mean:  5.5\n"
     ]
    }
   ],
   "source": [
    "import numpy as np\n",
    "m = np.arange(12).reshape((3,4))\n",
    "print(m)\n",
    "for i in range(len(m)):\n",
    "    print(\"rows are like=\",m[i,:])\n",
    "for i in range(len(m[0])):\n",
    "    print(\"columns are like=\",m[:,i])\n",
    "\n",
    "c = np.mean(m, axis = 0)\n",
    "r = np.mean(m, axis = 1)\n",
    "o = np.mean(m)\n",
    "\n",
    "print (m, '\\n')\n",
    "print(\"Column-wise mean: \", c)\n",
    "print(\"Row-wise mean: \", r)\n",
    "print(\"Overall mean: \", o)\n"
   ]
  },
  {
   "cell_type": "markdown",
   "id": "0efd75e3",
   "metadata": {},
   "source": [
    "02.2"
   ]
  },
  {
   "cell_type": "code",
   "execution_count": 45,
   "id": "c8d95cf0",
   "metadata": {},
   "outputs": [
    {
     "name": "stdout",
     "output_type": "stream",
     "text": [
      "outer_function: \n",
      " [[ 2  4  6  8]\n",
      " [ 6 12 18 24]\n",
      " [10 20 30 40]\n",
      " [14 28 42 56]] \n",
      "\n",
      "list comprehension: [ 2  4  6  8  6 12 18 24 10 20 30 40 14 28 42 56] \n",
      "\n",
      "broadcasted cross : [ 2 12 30 56] \n",
      "\n",
      "[[ 3  5  7  9]\n",
      " [ 5  7  9 11]\n",
      " [ 7  9 11 13]\n",
      " [ 9 11 13 15]]\n"
     ]
    }
   ],
   "source": [
    "import numpy as np\n",
    "u = np.array([1,3,5,7])\n",
    "v = np.array([2,4,6,8])\n",
    "output=np.outer(u,v)\n",
    "print(\"outer_function:\",\"\\n\",output,'\\n')\n",
    "array = np.array([i*j for i in u for j in v])\n",
    "print(\"list comprehension:\",array,'\\n')\n",
    "print(\"broadcasted cross :\", u*v, '\\n')\n",
    "\n",
    "#2,3\n",
    "u = np.array([1,3,5,7])\n",
    "v = np.array([2,4,6,8])\n",
    "print(u[:, np.newaxis] + v)"
   ]
  },
  {
   "cell_type": "markdown",
   "id": "234f3df3",
   "metadata": {},
   "source": [
    "02.3"
   ]
  },
  {
   "cell_type": "code",
   "execution_count": 5,
   "id": "436437db",
   "metadata": {},
   "outputs": [
    {
     "name": "stdout",
     "output_type": "stream",
     "text": [
      "aray : \n",
      " [[0.34978625 0.6750841  0.40695446 0.18457443 0.07885827 0.38586728]\n",
      " [0.76991016 0.1887937  0.98772995 0.2197839  0.47673559 0.33574327]\n",
      " [0.25601115 0.94663252 0.91559474 0.90323821 0.05089782 0.74705596]\n",
      " [0.91528161 0.28814206 0.110978   0.2377688  0.63451338 0.03390089]\n",
      " [0.92565548 0.59772052 0.4387767  0.15274519 0.80485372 0.03590941]\n",
      " [0.52637645 0.05703049 0.9144951  0.22797972 0.77581272 0.02002377]\n",
      " [0.17914517 0.1813308  0.15155821 0.6030299  0.98204194 0.95849195]\n",
      " [0.64878227 0.85888741 0.11151167 0.74124097 0.57479888 0.31926925]\n",
      " [0.72787623 0.8496539  0.19337719 0.3470015  0.46930801 0.62929364]\n",
      " [0.03757934 0.10282257 0.06111507 0.96595842 0.53687227 0.07942421]]\n",
      "np.any() : \n",
      " True\n",
      "[[0.34978625 0.6750841  0.40695446 0.18457443 0.         0.38586728]\n",
      " [0.76991016 0.1887937  0.98772995 0.2197839  0.47673559 0.33574327]\n",
      " [0.25601115 0.94663252 0.91559474 0.90323821 0.         0.74705596]\n",
      " [0.91528161 0.28814206 0.110978   0.2377688  0.63451338 0.        ]\n",
      " [0.92565548 0.59772052 0.4387767  0.15274519 0.80485372 0.        ]\n",
      " [0.52637645 0.         0.9144951  0.22797972 0.77581272 0.        ]\n",
      " [0.17914517 0.1813308  0.15155821 0.6030299  0.98204194 0.95849195]\n",
      " [0.64878227 0.85888741 0.11151167 0.74124097 0.57479888 0.31926925]\n",
      " [0.72787623 0.8496539  0.19337719 0.3470015  0.46930801 0.62929364]\n",
      " [0.         0.10282257 0.         0.96595842 0.53687227 0.        ]]\n",
      "Boolean_indexing : \n",
      " [[False False False False  True False]\n",
      " [False False False False False False]\n",
      " [False False False False  True False]\n",
      " [False False False False False  True]\n",
      " [False False False False False  True]\n",
      " [False  True False False False  True]\n",
      " [False False False False False False]\n",
      " [False False False False False False]\n",
      " [False False False False False False]\n",
      " [ True False  True False False  True]]\n"
     ]
    }
   ],
   "source": [
    "import numpy as np\n",
    "array=np.random.rand(10,6)\n",
    "print(\"aray :\",'\\n',array)\n",
    "print(\"np.any() :\",'\\n',np.any(array<0.1))\n",
    "Boolean_indexing=(array<0.1)\n",
    "for i in range(np.shape(array)[0]) :\n",
    "    for j in range(np.shape(array)[1]) :\n",
    "        if Boolean_indexing[i][j] == True :\n",
    "            array[i][j]=0\n",
    "print(array)\n",
    "print(\"Boolean_indexing :\",'\\n',Boolean_indexing)"
   ]
  },
  {
   "cell_type": "markdown",
   "id": "4e0f4372",
   "metadata": {},
   "source": [
    "02.4"
   ]
  },
  {
   "cell_type": "code",
   "execution_count": 1,
   "id": "b48be59e",
   "metadata": {},
   "outputs": [
    {
     "name": "stdout",
     "output_type": "stream",
     "text": [
      "[0.         0.06346652 0.12693304 0.19039955 0.25386607 0.31733259\n",
      " 0.38079911 0.44426563 0.50773215 0.57119866 0.63466518 0.6981317\n",
      " 0.76159822 0.82506474 0.88853126 0.95199777 1.01546429 1.07893081\n",
      " 1.14239733 1.20586385 1.26933037 1.33279688 1.3962634  1.45972992\n",
      " 1.52319644 1.58666296 1.65012947 1.71359599 1.77706251 1.84052903\n",
      " 1.90399555 1.96746207 2.03092858 2.0943951  2.15786162 2.22132814\n",
      " 2.28479466 2.34826118 2.41172769 2.47519421 2.53866073 2.60212725\n",
      " 2.66559377 2.72906028 2.7925268  2.85599332 2.91945984 2.98292636\n",
      " 3.04639288 3.10985939 3.17332591 3.23679243 3.30025895 3.36372547\n",
      " 3.42719199 3.4906585  3.55412502 3.61759154 3.68105806 3.74452458\n",
      " 3.8079911  3.87145761 3.93492413 3.99839065 4.06185717 4.12532369\n",
      " 4.1887902  4.25225672 4.31572324 4.37918976 4.44265628 4.5061228\n",
      " 4.56958931 4.63305583 4.69652235 4.75998887 4.82345539 4.88692191\n",
      " 4.95038842 5.01385494 5.07732146 5.14078798 5.2042545  5.26772102\n",
      " 5.33118753 5.39465405 5.45812057 5.52158709 5.58505361 5.64852012\n",
      " 5.71198664 5.77545316 5.83891968 5.9023862  5.96585272 6.02931923\n",
      " 6.09278575 6.15625227 6.21971879 6.28318531] \n",
      "\n",
      "[0.06346652 0.12693304 0.19039955 0.25386607 0.31733259 0.38079911\n",
      " 0.44426563 0.50773215 0.57119866] \n",
      "\n",
      "[[0.         0.06346652 0.12693304 0.19039955 0.25386607 0.31733259\n",
      "  0.38079911 0.44426563 0.50773215 0.57119866]\n",
      " [0.63466518 0.6981317  0.76159822 0.82506474 0.88853126 0.95199777\n",
      "  1.01546429 1.07893081 1.14239733 1.20586385]\n",
      " [1.26933037 1.33279688 1.3962634  1.45972992 1.52319644 1.58666296\n",
      "  1.65012947 1.71359599 1.77706251 1.84052903]\n",
      " [1.90399555 1.96746207 2.03092858 2.0943951  2.15786162 2.22132814\n",
      "  2.28479466 2.34826118 2.41172769 2.47519421]\n",
      " [2.53866073 2.60212725 2.66559377 2.72906028 2.7925268  2.85599332\n",
      "  2.91945984 2.98292636 3.04639288 3.10985939]\n",
      " [3.17332591 3.23679243 3.30025895 3.36372547 3.42719199 3.4906585\n",
      "  3.55412502 3.61759154 3.68105806 3.74452458]\n",
      " [3.8079911  3.87145761 3.93492413 3.99839065 4.06185717 4.12532369\n",
      "  4.1887902  4.25225672 4.31572324 4.37918976]\n",
      " [4.44265628 4.5061228  4.56958931 4.63305583 4.69652235 4.75998887\n",
      "  4.82345539 4.88692191 4.95038842 5.01385494]\n",
      " [5.07732146 5.14078798 5.2042545  5.26772102 5.33118753 5.39465405\n",
      "  5.45812057 5.52158709 5.58505361 5.64852012]\n",
      " [5.71198664 5.77545316 5.83891968 5.9023862  5.96585272 6.02931923\n",
      "  6.09278575 6.15625227 6.21971879 6.28318531]] \n",
      "\n",
      "absolute_valuses_of_sin_and_cos : \n",
      " [0.03365502662295816, 0.056082297100401135, 0.07849544915946327, 0.011219283672541658] \n",
      "\n"
     ]
    },
    {
     "data": {
      "text/plain": [
       "[<matplotlib.lines.Line2D at 0x1ccb8c554f0>,\n",
       " <matplotlib.lines.Line2D at 0x1ccb8c555b0>]"
      ]
     },
     "execution_count": 1,
     "metadata": {},
     "output_type": "execute_result"
    },
    {
     "data": {
      "image/png": "[encoded data removed]",
      "text/plain": [
       "<Figure size 432x288 with 1 Axes>"
      ]
     },
     "metadata": {
      "needs_background": "light"
     },
     "output_type": "display_data"
    }
   ],
   "source": [
    "import math\n",
    "import numpy as np\n",
    "import matplotlib.pyplot as plt\n",
    "array=np.linspace(0,math.pi*2,num=100)\n",
    "print(array,'\\n')\n",
    "for i in array :\n",
    "    i=array[1:10]\n",
    "print(i,'\\n')\n",
    "m=array.reshape(10,10)\n",
    "print(m,'\\n')\n",
    "#condition \n",
    "# absolute_value = abs[math.sin-math.cos]\n",
    "absolute=[abs(np.sin(i)-np.cos(i)) for i in array if abs(np.sin(i)-np.cos(i))<0.1] \n",
    "Interference=np.abs(np.sin(array)-np.cos(array))<0.1\n",
    "closed=array[Interference]\n",
    "plt.plot(closed,np.cos(closed), \"o\")\n",
    "print(\"absolute_valuses_of_sin_and_cos :\",'\\n',absolute,'\\n')\n",
    "sin_of_array=np.sin(array)\n",
    "cos_of_array=np.cos(array)\n",
    "plt.plot(array,sin_of_array,array,cos_of_array)\n",
    "\n",
    "    \n",
    "\n"
   ]
  },
  {
   "cell_type": "markdown",
   "id": "6bb1a934",
   "metadata": {},
   "source": [
    "02.5\n"
   ]
  },
  {
   "cell_type": "code",
   "execution_count": 4,
   "id": "22e5c6da",
   "metadata": {},
   "outputs": [
    {
     "name": "stdout",
     "output_type": "stream",
     "text": [
      "[[  1   2   3   4   5   6   7   8   9  10]\n",
      " [  2   4   6   8  10  12  14  16  18  20]\n",
      " [  3   6   9  12  15  18  21  24  27  30]\n",
      " [  4   8  12  16  20  24  28  32  36  40]\n",
      " [  5  10  15  20  25  30  35  40  45  50]\n",
      " [  6  12  18  24  30  36  42  48  54  60]\n",
      " [  7  14  21  28  35  42  49  56  63  70]\n",
      " [  8  16  24  32  40  48  56  64  72  80]\n",
      " [  9  18  27  36  45  54  63  72  81  90]\n",
      " [ 10  20  30  40  50  60  70  80  90 100]] \n",
      "\n",
      "trace of matrix is : 385\n",
      "[[ 10   9   8   7   6   5   4   3   2   1]\n",
      " [ 20  18  16  14  12  10   8   6   4   2]\n",
      " [ 30  27  24  21  18  15  12   9   6   3]\n",
      " [ 40  36  32  28  24  20  16  12   8   4]\n",
      " [ 50  45  40  35  30  25  20  15  10   5]\n",
      " [ 60  54  48  42  36  30  24  18  12   6]\n",
      " [ 70  63  56  49  42  35  28  21  14   7]\n",
      " [ 80  72  64  56  48  40  32  24  16   8]\n",
      " [ 90  81  72  63  54  45  36  27  18   9]\n",
      " [100  90  80  70  60  50  40  30  20  10]]\n"
     ]
    }
   ],
   "source": [
    "import numpy as np\n",
    "\n",
    "def table(n):\n",
    "    a = np.arange(1, n)\n",
    "    return a * a[0:10, None]\n",
    "print(table(11),'\\n')\n",
    "b=table(11)\n",
    "#to find the trace :\n",
    "trace_of_matrix=np.matrix.trace(b)\n",
    "print(\"trace of matrix is :\" ,trace_of_matrix)\n",
    "#to creat anto_diagonal matrix :\n",
    "flipped_arr = np.fliplr(b)\n",
    "print(flipped_arr)\n"
   ]
  },
  {
   "cell_type": "markdown",
   "id": "baeb89fc",
   "metadata": {},
   "source": [
    "03.6"
   ]
  },
  {
   "cell_type": "code",
   "execution_count": 82,
   "id": "2fea3962",
   "metadata": {},
   "outputs": [
    {
     "name": "stdout",
     "output_type": "stream",
     "text": [
      "distances \n",
      " [[    0   198   303   736   871  1175  1475  1544  1913  2448]\n",
      " [ -198     0   105   538   673   977  1277  1346  1715  2250]\n",
      " [ -303  -105     0   433   568   872  1172  1241  1610  2145]\n",
      " [ -736  -538  -433     0   135   439   739   808  1177  1712]\n",
      " [ -871  -673  -568  -135     0   304   604   673  1042  1577]\n",
      " [-1175  -977  -872  -439  -304     0   300   369   738  1273]\n",
      " [-1475 -1277 -1172  -739  -604  -300     0    69   438   973]\n",
      " [-1544 -1346 -1241  -808  -673  -369   -69     0   369   904]\n",
      " [-1913 -1715 -1610 -1177 -1042  -738  -438  -369     0   535]\n",
      " [-2448 -2250 -2145 -1712 -1577 -1273  -973  -904  -535     0]] \n",
      "\n",
      "distances in km are: \n",
      " [[    0.        318.64932   487.63002  1184.47424  1401.73514  1890.9745\n",
      "   2373.7765   2484.82096  3078.66742  3939.66432]\n",
      " [ -318.64932     0.        168.9807    865.82492  1083.08582  1572.32518\n",
      "   2055.12718  2166.17164  2760.0181   3621.015  ]\n",
      " [ -487.63002  -168.9807      0.        696.84422   914.10512  1403.34448\n",
      "   1886.14648  1997.19094  2591.0374   3452.0343 ]\n",
      " [-1184.47424  -865.82492  -696.84422     0.        217.2609    706.50026\n",
      "   1189.30226  1300.34672  1894.19318  2755.19008]\n",
      " [-1401.73514 -1083.08582  -914.10512  -217.2609      0.        489.23936\n",
      "    972.04136  1083.08582  1676.93228  2537.92918]\n",
      " [-1890.9745  -1572.32518 -1403.34448  -706.50026  -489.23936     0.\n",
      "    482.802     593.84646  1187.69292  2048.68982]\n",
      " [-2373.7765  -2055.12718 -1886.14648 -1189.30226  -972.04136  -482.802\n",
      "      0.        111.04446   704.89092  1565.88782]\n",
      " [-2484.82096 -2166.17164 -1997.19094 -1300.34672 -1083.08582  -593.84646\n",
      "   -111.04446     0.        593.84646  1454.84336]\n",
      " [-3078.66742 -2760.0181  -2591.0374  -1894.19318 -1676.93228 -1187.69292\n",
      "   -704.89092  -593.84646     0.        860.9969 ]\n",
      " [-3939.66432 -3621.015   -3452.0343  -2755.19008 -2537.92918 -2048.68982\n",
      "  -1565.88782 -1454.84336  -860.9969      0.     ]] \n",
      "\n"
     ]
    }
   ],
   "source": [
    "cities=np.array([\"Chicago\", \"Springfield\", \"Saint-Louis\", \"Tulsa\", \"Oklahoma City\", \"Amarillo\", \"Santa Fe\", \"Albuquerque\", \"Flagstaff\", \"Los Angeles\"])\n",
    "miles=np.array([0, 198, 303, 736, 871, 1175, 1475, 1544, 1913, 2448])\n",
    "distances=np.array([[(miles[i]-miles[j]) for i in range(len(miles))] for j in range(len(miles))])\n",
    "print(\"distances\",'\\n',distances,'\\n')\n",
    "km =distances *1.60934\n",
    "print(\"distances in km are:\",'\\n',km,'\\n')"
   ]
  },
  {
   "cell_type": "code",
   "execution_count": 16,
   "id": "083cd4fc",
   "metadata": {},
   "outputs": [
    {
     "name": "stdout",
     "output_type": "stream",
     "text": [
      "the mask: (array([False, False, False, False, False, False, False, False, False,\n",
      "       False, False]), array([False,  True,  True, False,  True,  True, False,  True,  True,\n",
      "       False,  True]), array([False, False, False, False, False,  True, False, False, False,\n",
      "       False,  True]), array([False, False, False, False, False, False, False,  True, False,\n",
      "       False, False])) \n",
      "\n"
     ]
    }
   ],
   "source": [
    "# part(a)\n",
    "\n",
    "def prime():\n",
    "    numbers=np.arange(1,101)\n",
    "    for i in numbers:\n",
    "        mask = (a % 3 == 0, a%2==0 , a%5==0, a%7==0)\n",
    "    print(\"the mask:\",mask,'\\n')\n",
    "\n",
    "prime()  \n",
    "#part(d)\n",
    "# a=[range(1,101)]\n",
    "# def prime() :\n",
    "#     for i in a :\n",
    "#         if i%2==0 :\n",
    "#             a=a.remove()\n",
    "#         elif i%3==0 :\n",
    "#             a=a.remove()\n",
    "#         elif i%5==0 :\n",
    "#             a=a.remove()\n",
    "#         elif i%7==0 :\n",
    "#             a=a.remove()\n",
    "#     return a\n",
    "# prime()\n",
    "# print(a)"
   ]
  },
  {
   "cell_type": "code",
   "execution_count": 10,
   "id": "21a0c3b4",
   "metadata": {},
   "outputs": [
    {
     "name": "stdout",
     "output_type": "stream",
     "text": [
      " 2   3   5   7   11   13   17   19   23   29   31   37   41   43   47   53   59   61   67   71   73   79   83   89   97  "
     ]
    }
   ],
   "source": [
    "for Number in range (1, 101):\n",
    "    count = 0\n",
    "    for i in range(2, (Number//2 + 1)):\n",
    "        if(Number % i == 0):\n",
    "            count = count + 1\n",
    "            break\n",
    "\n",
    "    if (count == 0 and Number!=1):\n",
    "        print(\" %d\" %Number, end = '  ')\n",
    "        "
   ]
  },
  {
   "cell_type": "code",
   "execution_count": 28,
   "id": "67ab3a4b",
   "metadata": {},
   "outputs": [
    {
     "ename": "TypeError",
     "evalue": "'int' object is not callable",
     "output_type": "error",
     "traceback": [
      "\u001b[1;31m---------------------------------------------------------------------------\u001b[0m",
      "\u001b[1;31mTypeError\u001b[0m                                 Traceback (most recent call last)",
      "\u001b[1;32m<ipython-input-28-55d28fbaf6f9>\u001b[0m in \u001b[0;36m<module>\u001b[1;34m\u001b[0m\n\u001b[0;32m     11\u001b[0m \u001b[1;31m#         if (count == 0 and my_arr!=1):\u001b[0m\u001b[1;33m\u001b[0m\u001b[1;33m\u001b[0m\u001b[1;33m\u001b[0m\u001b[0m\n\u001b[0;32m     12\u001b[0m \u001b[1;31m#             print(\" %d\" %my_arr, end = '  ')\u001b[0m\u001b[1;33m\u001b[0m\u001b[1;33m\u001b[0m\u001b[1;33m\u001b[0m\u001b[0m\n\u001b[1;32m---> 13\u001b[1;33m \u001b[0mmask\u001b[0m\u001b[1;33m=\u001b[0m\u001b[0mmy_arr\u001b[0m\u001b[1;33m(\u001b[0m\u001b[0mcount\u001b[0m \u001b[1;33m==\u001b[0m \u001b[1;36m0\u001b[0m \u001b[1;32mand\u001b[0m \u001b[0mmy_arr\u001b[0m\u001b[1;33m!=\u001b[0m\u001b[1;36m1\u001b[0m\u001b[1;33m)\u001b[0m\u001b[1;33m\u001b[0m\u001b[1;33m\u001b[0m\u001b[0m\n\u001b[0m\u001b[0;32m     14\u001b[0m \u001b[0mprint\u001b[0m\u001b[1;33m(\u001b[0m\u001b[0mmask\u001b[0m\u001b[1;33m)\u001b[0m\u001b[1;33m\u001b[0m\u001b[1;33m\u001b[0m\u001b[0m\n",
      "\u001b[1;31mTypeError\u001b[0m: 'int' object is not callable"
     ]
    }
   ],
   "source": [
    "import numpy as np\n",
    "\n",
    "my_arr = np.arange(1, 100)\n",
    "mask = my_arr%2==0\n",
    "\n",
    "my_arr[mask]"
   ]
  },
  {
   "cell_type": "code",
   "execution_count": 56,
   "id": "4634cc84",
   "metadata": {},
   "outputs": [
    {
     "name": "stdout",
     "output_type": "stream",
     "text": [
      "2\n",
      "3\n",
      "5\n",
      "7\n",
      "11\n",
      "13\n",
      "17\n",
      "19\n",
      "23\n",
      "29\n",
      "31\n",
      "37\n",
      "41\n",
      "43\n",
      "47\n",
      "53\n",
      "59\n",
      "61\n",
      "67\n",
      "71\n",
      "73\n",
      "79\n",
      "83\n",
      "89\n",
      "97\n"
     ]
    }
   ],
   "source": [
    "import numpy as np\n",
    "\n",
    "array = np.arange(1, 100)\n",
    "for i in array:\n",
    "        count = 0\n",
    "        for j in range(2, (i//2 + 1)):\n",
    "            if(i % j == 0):\n",
    "                count = count + 1\n",
    "                break\n",
    "\n",
    "        if (count == 0 and i!=1):\n",
    "            print(i)\n"
   ]
  },
  {
   "cell_type": "code",
   "execution_count": 6,
   "id": "a9e71d1f",
   "metadata": {},
   "outputs": [
    {
     "name": "stdout",
     "output_type": "stream",
     "text": [
      "2\n",
      "3\n",
      "5\n",
      "7\n",
      "11\n",
      "13\n",
      "17\n",
      "19\n",
      "23\n",
      "29\n",
      "31\n",
      "37\n",
      "41\n",
      "43\n",
      "47\n",
      "53\n",
      "59\n",
      "61\n",
      "67\n",
      "71\n",
      "73\n",
      "79\n",
      "83\n",
      "89\n",
      "97\n",
      "<function prime at 0x000002687AEBE3A0>\n"
     ]
    },
    {
     "ename": "NameError",
     "evalue": "name 'mask' is not defined",
     "output_type": "error",
     "traceback": [
      "\u001b[1;31m---------------------------------------------------------------------------\u001b[0m",
      "\u001b[1;31mNameError\u001b[0m                                 Traceback (most recent call last)",
      "\u001b[1;32m<ipython-input-6-04074aeb83e0>\u001b[0m in \u001b[0;36m<module>\u001b[1;34m\u001b[0m\n\u001b[0;32m     21\u001b[0m \u001b[0mscaling\u001b[0m \u001b[1;33m=\u001b[0m \u001b[0mnp\u001b[0m\u001b[1;33m.\u001b[0m\u001b[0marange\u001b[0m\u001b[1;33m(\u001b[0m\u001b[1;36m100\u001b[0m\u001b[1;33m,\u001b[0m\u001b[1;36m1000\u001b[0m\u001b[1;33m,\u001b[0m\u001b[1;36m100\u001b[0m\u001b[1;33m)\u001b[0m\u001b[1;33m\u001b[0m\u001b[1;33m\u001b[0m\u001b[0m\n\u001b[0;32m     22\u001b[0m \u001b[1;32mfor\u001b[0m \u001b[0mi\u001b[0m \u001b[1;32min\u001b[0m \u001b[0mscaling\u001b[0m\u001b[1;33m:\u001b[0m\u001b[1;33m\u001b[0m\u001b[1;33m\u001b[0m\u001b[0m\n\u001b[1;32m---> 23\u001b[1;33m     \u001b[0mget_ipython\u001b[0m\u001b[1;33m(\u001b[0m\u001b[1;33m)\u001b[0m\u001b[1;33m.\u001b[0m\u001b[0mrun_line_magic\u001b[0m\u001b[1;33m(\u001b[0m\u001b[1;34m'timeit'\u001b[0m\u001b[1;33m,\u001b[0m \u001b[1;34m'np.arange(i)[mask(i)]'\u001b[0m\u001b[1;33m)\u001b[0m\u001b[1;33m\u001b[0m\u001b[1;33m\u001b[0m\u001b[0m\n\u001b[0m",
      "\u001b[1;32m~\\anaconda3\\lib\\site-packages\\IPython\\core\\interactiveshell.py\u001b[0m in \u001b[0;36mrun_line_magic\u001b[1;34m(self, magic_name, line, _stack_depth)\u001b[0m\n\u001b[0;32m   2342\u001b[0m                 \u001b[0mkwargs\u001b[0m\u001b[1;33m[\u001b[0m\u001b[1;34m'local_ns'\u001b[0m\u001b[1;33m]\u001b[0m \u001b[1;33m=\u001b[0m \u001b[0mself\u001b[0m\u001b[1;33m.\u001b[0m\u001b[0mget_local_scope\u001b[0m\u001b[1;33m(\u001b[0m\u001b[0mstack_depth\u001b[0m\u001b[1;33m)\u001b[0m\u001b[1;33m\u001b[0m\u001b[1;33m\u001b[0m\u001b[0m\n\u001b[0;32m   2343\u001b[0m             \u001b[1;32mwith\u001b[0m \u001b[0mself\u001b[0m\u001b[1;33m.\u001b[0m\u001b[0mbuiltin_trap\u001b[0m\u001b[1;33m:\u001b[0m\u001b[1;33m\u001b[0m\u001b[1;33m\u001b[0m\u001b[0m\n\u001b[1;32m-> 2344\u001b[1;33m                 \u001b[0mresult\u001b[0m \u001b[1;33m=\u001b[0m \u001b[0mfn\u001b[0m\u001b[1;33m(\u001b[0m\u001b[1;33m*\u001b[0m\u001b[0margs\u001b[0m\u001b[1;33m,\u001b[0m \u001b[1;33m**\u001b[0m\u001b[0mkwargs\u001b[0m\u001b[1;33m)\u001b[0m\u001b[1;33m\u001b[0m\u001b[1;33m\u001b[0m\u001b[0m\n\u001b[0m\u001b[0;32m   2345\u001b[0m             \u001b[1;32mreturn\u001b[0m \u001b[0mresult\u001b[0m\u001b[1;33m\u001b[0m\u001b[1;33m\u001b[0m\u001b[0m\n\u001b[0;32m   2346\u001b[0m \u001b[1;33m\u001b[0m\u001b[0m\n",
      "\u001b[1;32m~\\anaconda3\\lib\\site-packages\\decorator.py\u001b[0m in \u001b[0;36mfun\u001b[1;34m(*args, **kw)\u001b[0m\n\u001b[0;32m    229\u001b[0m             \u001b[1;32mif\u001b[0m \u001b[1;32mnot\u001b[0m \u001b[0mkwsyntax\u001b[0m\u001b[1;33m:\u001b[0m\u001b[1;33m\u001b[0m\u001b[1;33m\u001b[0m\u001b[0m\n\u001b[0;32m    230\u001b[0m                 \u001b[0margs\u001b[0m\u001b[1;33m,\u001b[0m \u001b[0mkw\u001b[0m \u001b[1;33m=\u001b[0m \u001b[0mfix\u001b[0m\u001b[1;33m(\u001b[0m\u001b[0margs\u001b[0m\u001b[1;33m,\u001b[0m \u001b[0mkw\u001b[0m\u001b[1;33m,\u001b[0m \u001b[0msig\u001b[0m\u001b[1;33m)\u001b[0m\u001b[1;33m\u001b[0m\u001b[1;33m\u001b[0m\u001b[0m\n\u001b[1;32m--> 231\u001b[1;33m             \u001b[1;32mreturn\u001b[0m \u001b[0mcaller\u001b[0m\u001b[1;33m(\u001b[0m\u001b[0mfunc\u001b[0m\u001b[1;33m,\u001b[0m \u001b[1;33m*\u001b[0m\u001b[1;33m(\u001b[0m\u001b[0mextras\u001b[0m \u001b[1;33m+\u001b[0m \u001b[0margs\u001b[0m\u001b[1;33m)\u001b[0m\u001b[1;33m,\u001b[0m \u001b[1;33m**\u001b[0m\u001b[0mkw\u001b[0m\u001b[1;33m)\u001b[0m\u001b[1;33m\u001b[0m\u001b[1;33m\u001b[0m\u001b[0m\n\u001b[0m\u001b[0;32m    232\u001b[0m     \u001b[0mfun\u001b[0m\u001b[1;33m.\u001b[0m\u001b[0m__name__\u001b[0m \u001b[1;33m=\u001b[0m \u001b[0mfunc\u001b[0m\u001b[1;33m.\u001b[0m\u001b[0m__name__\u001b[0m\u001b[1;33m\u001b[0m\u001b[1;33m\u001b[0m\u001b[0m\n\u001b[0;32m    233\u001b[0m     \u001b[0mfun\u001b[0m\u001b[1;33m.\u001b[0m\u001b[0m__doc__\u001b[0m \u001b[1;33m=\u001b[0m \u001b[0mfunc\u001b[0m\u001b[1;33m.\u001b[0m\u001b[0m__doc__\u001b[0m\u001b[1;33m\u001b[0m\u001b[1;33m\u001b[0m\u001b[0m\n",
      "\u001b[1;32m~\\anaconda3\\lib\\site-packages\\IPython\\core\\magic.py\u001b[0m in \u001b[0;36m<lambda>\u001b[1;34m(f, *a, **k)\u001b[0m\n\u001b[0;32m    185\u001b[0m     \u001b[1;31m# but it's overkill for just that one bit of state.\u001b[0m\u001b[1;33m\u001b[0m\u001b[1;33m\u001b[0m\u001b[1;33m\u001b[0m\u001b[0m\n\u001b[0;32m    186\u001b[0m     \u001b[1;32mdef\u001b[0m \u001b[0mmagic_deco\u001b[0m\u001b[1;33m(\u001b[0m\u001b[0marg\u001b[0m\u001b[1;33m)\u001b[0m\u001b[1;33m:\u001b[0m\u001b[1;33m\u001b[0m\u001b[1;33m\u001b[0m\u001b[0m\n\u001b[1;32m--> 187\u001b[1;33m         \u001b[0mcall\u001b[0m \u001b[1;33m=\u001b[0m \u001b[1;32mlambda\u001b[0m \u001b[0mf\u001b[0m\u001b[1;33m,\u001b[0m \u001b[1;33m*\u001b[0m\u001b[0ma\u001b[0m\u001b[1;33m,\u001b[0m \u001b[1;33m**\u001b[0m\u001b[0mk\u001b[0m\u001b[1;33m:\u001b[0m \u001b[0mf\u001b[0m\u001b[1;33m(\u001b[0m\u001b[1;33m*\u001b[0m\u001b[0ma\u001b[0m\u001b[1;33m,\u001b[0m \u001b[1;33m**\u001b[0m\u001b[0mk\u001b[0m\u001b[1;33m)\u001b[0m\u001b[1;33m\u001b[0m\u001b[1;33m\u001b[0m\u001b[0m\n\u001b[0m\u001b[0;32m    188\u001b[0m \u001b[1;33m\u001b[0m\u001b[0m\n\u001b[0;32m    189\u001b[0m         \u001b[1;32mif\u001b[0m \u001b[0mcallable\u001b[0m\u001b[1;33m(\u001b[0m\u001b[0marg\u001b[0m\u001b[1;33m)\u001b[0m\u001b[1;33m:\u001b[0m\u001b[1;33m\u001b[0m\u001b[1;33m\u001b[0m\u001b[0m\n",
      "\u001b[1;32m~\\anaconda3\\lib\\site-packages\\IPython\\core\\magics\\execution.py\u001b[0m in \u001b[0;36mtimeit\u001b[1;34m(self, line, cell, local_ns)\u001b[0m\n\u001b[0;32m   1167\u001b[0m             \u001b[1;32mfor\u001b[0m \u001b[0mindex\u001b[0m \u001b[1;32min\u001b[0m \u001b[0mrange\u001b[0m\u001b[1;33m(\u001b[0m\u001b[1;36m0\u001b[0m\u001b[1;33m,\u001b[0m \u001b[1;36m10\u001b[0m\u001b[1;33m)\u001b[0m\u001b[1;33m:\u001b[0m\u001b[1;33m\u001b[0m\u001b[1;33m\u001b[0m\u001b[0m\n\u001b[0;32m   1168\u001b[0m                 \u001b[0mnumber\u001b[0m \u001b[1;33m=\u001b[0m \u001b[1;36m10\u001b[0m \u001b[1;33m**\u001b[0m \u001b[0mindex\u001b[0m\u001b[1;33m\u001b[0m\u001b[1;33m\u001b[0m\u001b[0m\n\u001b[1;32m-> 1169\u001b[1;33m                 \u001b[0mtime_number\u001b[0m \u001b[1;33m=\u001b[0m \u001b[0mtimer\u001b[0m\u001b[1;33m.\u001b[0m\u001b[0mtimeit\u001b[0m\u001b[1;33m(\u001b[0m\u001b[0mnumber\u001b[0m\u001b[1;33m)\u001b[0m\u001b[1;33m\u001b[0m\u001b[1;33m\u001b[0m\u001b[0m\n\u001b[0m\u001b[0;32m   1170\u001b[0m                 \u001b[1;32mif\u001b[0m \u001b[0mtime_number\u001b[0m \u001b[1;33m>=\u001b[0m \u001b[1;36m0.2\u001b[0m\u001b[1;33m:\u001b[0m\u001b[1;33m\u001b[0m\u001b[1;33m\u001b[0m\u001b[0m\n\u001b[0;32m   1171\u001b[0m                     \u001b[1;32mbreak\u001b[0m\u001b[1;33m\u001b[0m\u001b[1;33m\u001b[0m\u001b[0m\n",
      "\u001b[1;32m~\\anaconda3\\lib\\site-packages\\IPython\\core\\magics\\execution.py\u001b[0m in \u001b[0;36mtimeit\u001b[1;34m(self, number)\u001b[0m\n\u001b[0;32m    167\u001b[0m         \u001b[0mgc\u001b[0m\u001b[1;33m.\u001b[0m\u001b[0mdisable\u001b[0m\u001b[1;33m(\u001b[0m\u001b[1;33m)\u001b[0m\u001b[1;33m\u001b[0m\u001b[1;33m\u001b[0m\u001b[0m\n\u001b[0;32m    168\u001b[0m         \u001b[1;32mtry\u001b[0m\u001b[1;33m:\u001b[0m\u001b[1;33m\u001b[0m\u001b[1;33m\u001b[0m\u001b[0m\n\u001b[1;32m--> 169\u001b[1;33m             \u001b[0mtiming\u001b[0m \u001b[1;33m=\u001b[0m \u001b[0mself\u001b[0m\u001b[1;33m.\u001b[0m\u001b[0minner\u001b[0m\u001b[1;33m(\u001b[0m\u001b[0mit\u001b[0m\u001b[1;33m,\u001b[0m \u001b[0mself\u001b[0m\u001b[1;33m.\u001b[0m\u001b[0mtimer\u001b[0m\u001b[1;33m)\u001b[0m\u001b[1;33m\u001b[0m\u001b[1;33m\u001b[0m\u001b[0m\n\u001b[0m\u001b[0;32m    170\u001b[0m         \u001b[1;32mfinally\u001b[0m\u001b[1;33m:\u001b[0m\u001b[1;33m\u001b[0m\u001b[1;33m\u001b[0m\u001b[0m\n\u001b[0;32m    171\u001b[0m             \u001b[1;32mif\u001b[0m \u001b[0mgcold\u001b[0m\u001b[1;33m:\u001b[0m\u001b[1;33m\u001b[0m\u001b[1;33m\u001b[0m\u001b[0m\n",
      "\u001b[1;32m<magic-timeit>\u001b[0m in \u001b[0;36minner\u001b[1;34m(_it, _timer)\u001b[0m\n",
      "\u001b[1;31mNameError\u001b[0m: name 'mask' is not defined"
     ]
    }
   ],
   "source": [
    "import numpy as np\n",
    "def prime(n) :\n",
    "    array = np.arange(1, 100)\n",
    "    mask = np.array([True for i in array])\n",
    "    for i in array:\n",
    "        count = 0\n",
    "        for j in range(2, (i//2 + 1)):\n",
    "            if(i % j == 0):\n",
    "                count = count + 1\n",
    "                mask=True\n",
    "                break\n",
    "\n",
    "        if (count == 0 and i!=1):\n",
    "            print(i)\n",
    "\n",
    "    primenumbers = array[mask]\n",
    "    return(prime)\n",
    "  \n",
    "print(prime(100))\n",
    "\n",
    "scaling = np.arange(100,1000,100)\n",
    "for i in scaling:\n",
    "    %timeit np.arange(i)[mask(i)]\n"
   ]
  },
  {
   "cell_type": "code",
   "execution_count": null,
   "id": "9a829f62",
   "metadata": {},
   "outputs": [],
   "source": []
  }
 ],
 "metadata": {
  "kernelspec": {
   "display_name": "Python 3",
   "language": "python",
   "name": "python3"
  },
  "language_info": {
   "codemirror_mode": {
    "name": "ipython",
    "version": 3
   },
   "file_extension": ".py",
   "mimetype": "text/x-python",
   "name": "python",
   "nbconvert_exporter": "python",
   "pygments_lexer": "ipython3",
   "version": "3.8.8"
  }
 },
 "nbformat": 4,
 "nbformat_minor": 5
}
