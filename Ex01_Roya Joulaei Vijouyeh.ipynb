{
 "cells": [
  {
   "cell_type": "markdown",
   "id": "a2edc96c",
   "metadata": {},
   "source": [
    "01.1"
   ]
  },
  {
   "cell_type": "code",
   "execution_count": 3,
   "id": "d10d4803",
   "metadata": {},
   "outputs": [
    {
     "name": "stdout",
     "output_type": "stream",
     "text": [
      "[(0, 0), (0, 1), (0, 2), (0, 3), (1, 0), (1, 1), (1, 2), (1, 3), (2, 0), (2, 1), (2, 2), (2, 3)]\n",
      "[0, 4, 16]\n",
      "[0, 4, 16]\n"
     ]
    }
   ],
   "source": [
    "#part(a)\n",
    "a=([(i,j) for i in range(3) for j in range(4)])\n",
    "print(a)\n",
    "ans =[x*x for x in range (5) if x%2==0]\n",
    "print(ans)\n",
    "#part(b)\n",
    "ans = map(lambda x: x*x, filter(lambda x: x%2 == 0, range(5)))\n",
    "ans=[x**2 for x in range(5) if x%2==0] \n",
    "print(ans)"
   ]
  },
  {
   "cell_type": "markdown",
   "id": "de645cb0",
   "metadata": {},
   "source": [
    "01.2"
   ]
  },
  {
   "cell_type": "code",
   "execution_count": 4,
   "id": "37166289",
   "metadata": {},
   "outputs": [
    {
     "name": "stdout",
     "output_type": "stream",
     "text": [
      "[1, 2, 3]\n",
      "[1, 2, 3, 0, 1, 2, 3, 4]\n"
     ]
    }
   ],
   "source": [
    "def no_modify(x):\n",
    "    alist = [1,2,3,0,1,2,3,4]\n",
    "    return alist\n",
    "\n",
    "alist = [1,2,3]\n",
    "print (alist)\n",
    "print (no_modify(alist))"
   ]
  },
  {
   "cell_type": "markdown",
   "id": "17658c37",
   "metadata": {},
   "source": [
    "01.3"
   ]
  },
  {
   "cell_type": "code",
   "execution_count": 8,
   "id": "8d7406d7",
   "metadata": {},
   "outputs": [
    {
     "name": "stdout",
     "output_type": "stream",
     "text": [
      "Hello\n",
      "4\n"
     ]
    }
   ],
   "source": [
    "def hello(func) :\n",
    "    def wrapper(*args):\n",
    "        print(\"Hello\")\n",
    "        return func(*args)\n",
    "    return wrapper\n",
    "\n",
    "@hello\n",
    "def square(x):\n",
    "    return x*x\n",
    "print(square(2))"
   ]
  },
  {
   "cell_type": "markdown",
   "id": "97589f5d",
   "metadata": {},
   "source": [
    "01.4"
   ]
  },
  {
   "cell_type": "code",
   "execution_count": 8,
   "id": "01c18b16",
   "metadata": {},
   "outputs": [
    {
     "name": "stdout",
     "output_type": "stream",
     "text": [
      "please inter an integer number:5\n",
      "120\n",
      "please inter a number 5\n"
     ]
    },
    {
     "data": {
      "text/plain": [
       "120"
      ]
     },
     "execution_count": 8,
     "metadata": {},
     "output_type": "execute_result"
    }
   ],
   "source": [
    "#part(a)\n",
    "number=int(input(\"please inter an integer number:\"))\n",
    "\n",
    "def factorial(n) :\n",
    "    a=1\n",
    "    for i in range(1,number+1) :\n",
    "        a=a*i \n",
    "    return a\n",
    "\n",
    "result=factorial(number)\n",
    "print(result)\n",
    " \n",
    "#part(b)\n",
    "n=int(input(\"please inter a number \"))\n",
    "def fact (n) :\n",
    "    if n==1 :\n",
    "        return 1\n",
    "    else :\n",
    "        return n*fact(n-1)\n",
    "fact(n)"
   ]
  },
  {
   "cell_type": "markdown",
   "id": "7f957ef9",
   "metadata": {},
   "source": [
    "01.5"
   ]
  },
  {
   "cell_type": "code",
   "execution_count": 3,
   "id": "386a75cf",
   "metadata": {},
   "outputs": [
    {
     "name": "stdout",
     "output_type": "stream",
     "text": [
      "6.283185307179586\n",
      "12.566370614359172\n",
      "18.84955592153876\n",
      "3.141592653589793\n",
      "12.566370614359172\n",
      "28.274333882308138\n",
      "4.1887902047863905\n",
      "33.510321638291124\n",
      "113.09733552923255\n"
     ]
    }
   ],
   "source": [
    "import math\n",
    "densities = {\"Al\":[0.5,1,2],\"Fe\":[3,4,5],\"Pb\": [15,20,30]}\n",
    "radii =[1,2,3]\n",
    "import math\n",
    "for al, fe, pb in zip(densities['Al'], densities['Fe'], densities['Pb']):\n",
    "    if radii==1 :\n",
    "        for i in map (lambda x : x*2*math.pi*al, radii):print ('Al circle:',i)\n",
    "        for i in map (lambda x : x*x*math.pi*al, radii):print ('Al disk:',i)\n",
    "        for i in map (lambda x : 4/3*x*x*x*math.pi*al, radii):print ('Al sphere:',i)\n",
    "        \n",
    "    if radii==2 :\n",
    "        \n",
    "        for i in map (lambda x : x*2*math.pi*fe, radii):print ('Fe circle:',i)\n",
    "        for i in map (lambda x : x*x*math.pi*fe, radii):print ('Fe disk:',i)\n",
    "        for i in map (lambda x : 4/3*x*x*x*math.pi*fe, radii):print ('Fe sphere:',i)\n",
    "        \n",
    "        \n",
    "    if radii==3:\n",
    "        for i in map (lambda x : x*2*math.pi*pb, radii):print ('Pb circle:',i)\n",
    "        for i in map (lambda x : x*x*math.pi*pb, radii):print ('Pb disk:',i)\n",
    "        for i in map (lambda x : 4/3*x*x*x*math.pi*pb, radii):print ('Pb sphere:',i)\n",
    "\n",
    "#part(2)  \n",
    "\n",
    "radii =[1,2,3]\n",
    "for i in map (lambda x : x*2*math.pi, radii) : print (i)\n",
    "for i in map (lambda x : x*x*math.pi, radii) : print (i)\n",
    "for i in map (lambda x : 4/3*x*x*x*math.pi, radii) : print (i)\n"
   ]
  },
  {
   "cell_type": "code",
   "execution_count": 1,
   "id": "aaa0084f",
   "metadata": {},
   "outputs": [
    {
     "name": "stdout",
     "output_type": "stream",
     "text": [
      "I have 3 dogs.\n",
      "Tom is 10 .\n",
      "bob is 2 .\n",
      "Fletcher is 7 .\n",
      "And they are all mammals, of course.\n",
      "My dogs are not hungry.\n"
     ]
    }
   ],
   "source": [
    "dogs=[]\n",
    "class Dog:\n",
    "\n",
    "    # Class attribute\n",
    "    species = 'mammal'\n",
    "    _counter = 0\n",
    "    # Initializer / Instance attributes\n",
    "    def __init__(self, name, age):\n",
    "        dogs.append(self)\n",
    "        self.name = name\n",
    "        self.age = age\n",
    "        Dog._counter += 1\n",
    "        self.id = Dog._counter\n",
    "        self.is_hungry=True\n",
    "        \n",
    "    def eat(self):\n",
    "        self.is_hungry=False\n",
    "        \n",
    "    def inf(self):\n",
    "        if self.is_hungry==True:\n",
    "            print(\"{}\".format(self.name),'is hungry')\n",
    "        else:\n",
    "            print(\"{}\".format(self.name),'is not hungry')\n",
    "        return \"{}\".format(self.id)\n",
    "    def hung(self):\n",
    "        return self.is_hungry\n",
    "    def num(self):\n",
    "        print(self)\n",
    "\n",
    "    # instance method\n",
    "    def description(self):\n",
    "        return \"{} is {} years old\".format(self.name, self.age)\n",
    "\n",
    "    # instance method\n",
    "    def speak(self, sound):\n",
    "        return \"{} says {}\".format(self.name, sound)\n",
    "\n",
    "# Child class (inherits from Dog class)\n",
    "class RussellTerrier(Dog):\n",
    "    def run(self, speed):\n",
    "        return \"{} runs {}\".format(self.name, speed)\n",
    "\n",
    "# Child class (inherits from Dog class)\n",
    "class Bulldog(Dog):\n",
    "    def run(self, speed):\n",
    "        return \"{} runs {}\".format(self.name, speed)\n",
    "Tom=Dog('Tom',10)\n",
    "bob=Dog('bob',2)\n",
    "Fletcher=Dog('Fletcher',7)\n",
    "\n",
    "Tom.eat()\n",
    "bob.eat()\n",
    "Fletcher.eat()\n",
    "\n",
    "def information():\n",
    "    print('I have',len(dogs),'dogs.')\n",
    "    hung=False\n",
    "    for i in dogs:\n",
    "        print(i.name,'is',i.age,'.')\n",
    "        \n",
    "        if i.species=='mammal':\n",
    "            mammal=True\n",
    "        else:\n",
    "            mammal=False\n",
    "            \n",
    "        if i.hung()==True:\n",
    "            hung=True\n",
    "            print(\"{}\".format(i.name),'is hungry')\n",
    "            \n",
    "    if mammal==True:\n",
    "        print('And they are all mammals, of course.' )\n",
    "    if hung==True:\n",
    "        print('My dogs are hungry.')\n",
    "    else:\n",
    "        print('My dogs are not hungry.')\n",
    "        \n",
    "information()"
   ]
  },
  {
   "cell_type": "code",
   "execution_count": null,
   "id": "e0d487c0",
   "metadata": {},
   "outputs": [],
   "source": []
  }
 ],
 "metadata": {
  "kernelspec": {
   "display_name": "Python 3",
   "language": "python",
   "name": "python3"
  },
  "language_info": {
   "codemirror_mode": {
    "name": "ipython",
    "version": 3
   },
   "file_extension": ".py",
   "mimetype": "text/x-python",
   "name": "python",
   "nbconvert_exporter": "python",
   "pygments_lexer": "ipython3",
   "version": "3.8.8"
  }
 },
 "nbformat": 4,
 "nbformat_minor": 5
}
