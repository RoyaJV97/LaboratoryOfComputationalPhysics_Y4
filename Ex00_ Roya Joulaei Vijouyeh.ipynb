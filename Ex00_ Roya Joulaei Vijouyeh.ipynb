{
 "cells": [
  {
   "cell_type": "markdown",
   "id": "c8cb1063",
   "metadata": {},
   "source": [
    "00.1"
   ]
  },
  {
   "cell_type": "code",
   "execution_count": 16,
   "id": "6d97407c",
   "metadata": {},
   "outputs": [
    {
     "name": "stdout",
     "output_type": "stream",
     "text": [
      "1\n",
      "2\n",
      "Mikey\n",
      "4\n",
      "Mouse\n",
      "Mikey\n",
      "7\n",
      "8\n",
      "Mikey\n",
      "Mouse\n",
      "11\n",
      "Mikey\n",
      "13\n",
      "14\n",
      "MikeyMouse\n",
      "16\n",
      "17\n",
      "Mikey\n",
      "19\n",
      "Mouse\n",
      "Mikey\n",
      "22\n",
      "23\n",
      "Mikey\n",
      "Mouse\n",
      "26\n",
      "Mikey\n",
      "28\n",
      "29\n",
      "MikeyMouse\n",
      "31\n",
      "32\n",
      "Mikey\n",
      "34\n",
      "Mouse\n",
      "Mikey\n",
      "37\n",
      "38\n",
      "Mikey\n",
      "Mouse\n",
      "41\n",
      "Mikey\n",
      "43\n",
      "44\n",
      "MikeyMouse\n",
      "46\n",
      "47\n",
      "Mikey\n",
      "49\n",
      "Mouse\n",
      "Mikey\n",
      "52\n",
      "53\n",
      "Mikey\n",
      "Mouse\n",
      "56\n",
      "Mikey\n",
      "58\n",
      "59\n",
      "MikeyMouse\n",
      "61\n",
      "62\n",
      "Mikey\n",
      "64\n",
      "Mouse\n",
      "Mikey\n",
      "67\n",
      "68\n",
      "Mikey\n",
      "Mouse\n",
      "71\n",
      "Mikey\n",
      "73\n",
      "74\n",
      "MikeyMouse\n",
      "76\n",
      "77\n",
      "Mikey\n",
      "79\n",
      "Mouse\n",
      "Mikey\n",
      "82\n",
      "83\n",
      "Mikey\n",
      "Mouse\n",
      "86\n",
      "Mikey\n",
      "88\n",
      "89\n",
      "MikeyMouse\n",
      "91\n",
      "92\n",
      "Mikey\n",
      "94\n",
      "Mouse\n",
      "Mikey\n",
      "97\n",
      "98\n",
      "Mikey\n",
      "Mouse\n",
      "1\n",
      "2\n",
      "Donald\n",
      "4\n",
      "Duck\n",
      "Donald\n",
      "7\n",
      "8\n",
      "Donald\n",
      "Duck\n",
      "11\n",
      "Donald\n",
      "13\n",
      "14\n",
      "MikeyMouse\n",
      "16\n",
      "17\n",
      "Donald\n",
      "19\n",
      "Duck\n",
      "Donald\n",
      "22\n",
      "23\n",
      "Donald\n",
      "Duck\n",
      "26\n",
      "Donald\n",
      "28\n",
      "29\n",
      "MikeyMouse\n",
      "31\n",
      "32\n",
      "Donald\n",
      "34\n",
      "Duck\n",
      "Donald\n",
      "37\n",
      "38\n",
      "Donald\n",
      "Duck\n",
      "41\n",
      "Donald\n",
      "43\n",
      "44\n",
      "MikeyMouse\n",
      "46\n",
      "47\n",
      "Donald\n",
      "49\n",
      "Duck\n",
      "Donald\n",
      "52\n",
      "53\n",
      "Donald\n",
      "Duck\n",
      "56\n",
      "Donald\n",
      "58\n",
      "59\n",
      "MikeyMouse\n",
      "61\n",
      "62\n",
      "Donald\n",
      "64\n",
      "Duck\n",
      "Donald\n",
      "67\n",
      "68\n",
      "Donald\n",
      "Duck\n",
      "71\n",
      "Donald\n",
      "73\n",
      "74\n",
      "MikeyMouse\n",
      "76\n",
      "77\n",
      "Donald\n",
      "79\n",
      "Duck\n",
      "Donald\n",
      "82\n",
      "83\n",
      "Donald\n",
      "Duck\n",
      "86\n",
      "Donald\n",
      "88\n",
      "89\n",
      "MikeyMouse\n",
      "91\n",
      "92\n",
      "Donald\n",
      "94\n",
      "Duck\n",
      "Donald\n",
      "97\n",
      "98\n",
      "Donald\n",
      "Duck\n"
     ]
    }
   ],
   "source": [
    "a=[]\n",
    "\n",
    "for i in range(1,101):\n",
    "    if i%15==0: \n",
    "        print(\"MikeyMouse\")  \n",
    "        a.append(\"MikeyMouse\")\n",
    "    elif i%5==0:\n",
    "        print(\"Mouse\")\n",
    "        a.append(\"Mouse\")\n",
    "    elif i%3==0: \n",
    "        print(\"Mikey\")\n",
    "        a.append(\"Mikey\")\n",
    "    else :\n",
    "        print(i)   \n",
    "        a.append(i)\n",
    "\n",
    "\n",
    "\n",
    "for i in a:\n",
    "    \n",
    "    if i==\"Mikey\": print(\"Donald\")\n",
    "    elif i==\"Mouse\": print(\"Duck\")\n",
    "    else : print(i)"
   ]
  },
  {
   "cell_type": "markdown",
   "id": "aa216947",
   "metadata": {},
   "source": [
    "00.2"
   ]
  },
  {
   "cell_type": "code",
   "execution_count": 17,
   "id": "39e8ecc9",
   "metadata": {},
   "outputs": [
    {
     "name": "stdout",
     "output_type": "stream",
     "text": [
      "please inter a variable:3\n",
      "please inter a variable:2\n",
      "x is 2\n",
      "y is 3\n"
     ]
    }
   ],
   "source": [
    "x=input(\"please inter a variable:\")\n",
    "y=input(\"please inter a variable:\")\n",
    "\n",
    "def swap ():\n",
    "    y=y.replace(y,x)\n",
    "    x=x.replace(x,y)\n",
    "print(\"x is\",y)\n",
    "print(\"y is\",x)\n",
    "\n"
   ]
  },
  {
   "cell_type": "markdown",
   "id": "d2081f15",
   "metadata": {},
   "source": [
    "00.3"
   ]
  },
  {
   "cell_type": "code",
   "execution_count": 11,
   "id": "b3a53da3",
   "metadata": {},
   "outputs": [
    {
     "name": "stdout",
     "output_type": "stream",
     "text": [
      "The distance is : 5.0\n"
     ]
    }
   ],
   "source": [
    "from math import sqrt\n",
    "\n",
    "def func(x1, y1, x2, y2):   \n",
    "    u=(x1, y1)\n",
    "    v=(x2, y2)\n",
    "    \n",
    "    x=(x1-x2)**2\n",
    "    y=(y1-y2)**2\n",
    "    dist=sqrt(x+y)\n",
    "    \n",
    "    print (\"The distance is :\", dist)\n",
    "func(3,0,0,4) "
   ]
  },
  {
   "cell_type": "markdown",
   "id": "e1c46b1d",
   "metadata": {},
   "source": [
    "00.4"
   ]
  },
  {
   "cell_type": "code",
   "execution_count": 3,
   "id": "7128e0f4",
   "metadata": {},
   "outputs": [
    {
     "name": "stdout",
     "output_type": "stream",
     "text": [
      "['w', 2]\n",
      "['r', 17]\n",
      "['i', 14]\n",
      "['t', 19]\n",
      "['e', 22]\n",
      "[' ', 41]\n",
      "['a', 7]\n",
      "['p', 8]\n",
      "['o', 13]\n",
      "['g', 1]\n",
      "['m', 12]\n",
      "['h', 9]\n",
      "['n', 10]\n",
      "['s', 9]\n",
      "['u', 9]\n",
      "['b', 5]\n",
      "['f', 10]\n",
      "['1', 2]\n",
      "['0', 2]\n",
      "['.', 2]\n",
      "['l', 6]\n",
      "['c', 3]\n",
      "['k', 2]\n",
      "['y', 2]\n",
      "['d', 3]\n",
      "['v', 2]\n",
      "[':', 1]\n"
     ]
    }
   ],
   "source": [
    "a= \"Write a program that prints the numbers from 1 to 100. \\\n",
    "But for multiples of three print Mickey instead of the number and for the multiples of five print Mouse. \\\n",
    "For numbers which are multiples of both three and five print MickeyMouse:\"\n",
    "\n",
    "cr = [x.lower() for x in a]\n",
    "\n",
    "number=[]\n",
    "for i in range (len(cr)) :\n",
    "    count=0\n",
    "    for j in range(len(cr)) :\n",
    "        if cr[i]==cr[j]:\n",
    "            count+=1\n",
    "    number.append(count)\n",
    "b=[]\n",
    "for i in range(len(cr)):\n",
    "    if [cr[i],number[i]] not in b :\n",
    "        b.append([cr[i],number[i]])\n",
    "        print([cr[i],number[i]])\n",
    "    \n",
    "\n",
    "\n"
   ]
  },
  {
   "cell_type": "markdown",
   "id": "1cf167f1",
   "metadata": {},
   "source": [
    "00.5"
   ]
  },
  {
   "cell_type": "code",
   "execution_count": 3,
   "id": "28edae19",
   "metadata": {},
   "outputs": [
    {
     "name": "stdout",
     "output_type": "stream",
     "text": [
      "the length of unique list is 54\n",
      "the numbers in unique list is:  [36, 45, 58, 3, 74, 96, 64, 31, 10, 24, 19, 33, 86, 99, 18, 63, 70, 85, 47, 56, 42, 84, 88, 55, 20, 54, 8, 51, 79, 81, 57, 37, 91, 1, 66, 9, 89, 50, 95, 90, 98, 39, 16, 82, 92, 41, 30, 34, 94, 5, 72, 87, 75, 53]\n",
      "the length of l list is : 80\n"
     ]
    }
   ],
   "source": [
    "l = [36, 45, 58, 3, 74, 96, 64, 45, 31, 10, 24, 19, 33, 86, 99, 18, 63, 70, 85,\n",
    " 85, 63, 47, 56, 42, 70, 84, 88, 55, 20, 54, 8, 56, 51, 79, 81, 57, 37, 91,\n",
    " 1, 84, 84, 36, 66, 9, 89, 50, 42, 91, 50, 95, 90, 98, 39, 16, 82, 31, 92, 41,\n",
    " 45, 30, 66, 70, 34, 85, 94, 5, 3, 36, 72, 91, 84, 34, 87, 75, 53, 51, 20, 89, 51, 20]\n",
    "\n",
    "def unique_numbers(l):\n",
    "    unique=[]\n",
    "    for i in l:\n",
    "        if i not in unique:\n",
    "            unique.append(i)\n",
    "    print(\"the length of unique list is\",len(unique))\n",
    "    print(\"the numbers in unique list is: \",unique)\n",
    "    print(\"the length of l list is :\",len(l))\n",
    "    \n",
    "unique_numbers(l)"
   ]
  },
  {
   "cell_type": "markdown",
   "id": "377b94f0",
   "metadata": {},
   "source": [
    "00.6"
   ]
  },
  {
   "cell_type": "code",
   "execution_count": 1,
   "id": "4b60de79",
   "metadata": {},
   "outputs": [
    {
     "name": "stdout",
     "output_type": "stream",
     "text": [
      "please inter a number: 5\n",
      "25\n",
      "125\n",
      "15625\n"
     ]
    }
   ],
   "source": [
    "number=int(input(\"please inter a number: \"))\n",
    "\n",
    "def square(x):\n",
    "    a=number**2\n",
    "    return a\n",
    "\n",
    "def cube(x):\n",
    "    b=number**3\n",
    "    return b\n",
    "\n",
    "def sixth_power(x):\n",
    "    c=cube(number)*square(number)*number\n",
    "    return c\n",
    "\n",
    "print(square(number))\n",
    "print(cube(number))\n",
    "print(sixth_power(number))"
   ]
  },
  {
   "cell_type": "markdown",
   "id": "47fde950",
   "metadata": {},
   "source": [
    "00.7"
   ]
  },
  {
   "cell_type": "code",
   "execution_count": 4,
   "id": "5fb5f7fb",
   "metadata": {},
   "outputs": [
    {
     "name": "stdout",
     "output_type": "stream",
     "text": [
      "0\n",
      "1\n",
      "8\n",
      "27\n",
      "64\n",
      "125\n",
      "216\n",
      "343\n",
      "512\n",
      "729\n",
      "1000\n"
     ]
    },
    {
     "data": {
      "text/plain": [
       "[0, 1, 8, 27, 64, 125, 216, 343, 512, 729, 1000]"
      ]
     },
     "execution_count": 4,
     "metadata": {},
     "output_type": "execute_result"
    }
   ],
   "source": [
    "#part(a)\n",
    "a=[0,1,2,3,4,5,6,7,8,9,10]\n",
    "for i in range(0,len(a)) :\n",
    "    i=i**3\n",
    "    print(i)\n",
    "\n",
    "#part(b)    \n",
    "[i**3 for i in a]\n",
    "\n"
   ]
  },
  {
   "cell_type": "markdown",
   "id": "b64264de",
   "metadata": {},
   "source": [
    "008"
   ]
  },
  {
   "cell_type": "code",
   "execution_count": 5,
   "id": "4c4d437a",
   "metadata": {},
   "outputs": [
    {
     "name": "stdout",
     "output_type": "stream",
     "text": [
      "[(3, 4, 5), (4, 3, 5), (5, 12, 13), (6, 8, 10), (7, 24, 25), (8, 6, 10), (8, 15, 17), (9, 12, 15), (9, 40, 41), (10, 24, 26), (11, 60, 61), (12, 5, 13), (12, 9, 15), (12, 16, 20), (12, 35, 37), (13, 84, 85), (14, 48, 50), (15, 8, 17), (15, 20, 25), (15, 36, 39), (16, 12, 20), (16, 30, 34), (16, 63, 65), (18, 24, 30), (18, 80, 82), (20, 15, 25), (20, 21, 29), (20, 48, 52), (21, 20, 29), (21, 28, 35), (21, 72, 75), (24, 7, 25), (24, 10, 26), (24, 18, 30), (24, 32, 40), (24, 45, 51), (24, 70, 74), (25, 60, 65), (27, 36, 45), (28, 21, 35), (28, 45, 53), (28, 96, 100), (30, 16, 34), (30, 40, 50), (30, 72, 78), (32, 24, 40), (32, 60, 68), (33, 44, 55), (33, 56, 65), (35, 12, 37), (35, 84, 91), (36, 15, 39), (36, 27, 45), (36, 48, 60), (36, 77, 85), (39, 52, 65), (39, 80, 89), (40, 9, 41), (40, 30, 50), (40, 42, 58), (40, 75, 85), (42, 40, 58), (42, 56, 70), (44, 33, 55), (45, 24, 51), (45, 28, 53), (45, 60, 75), (48, 14, 50), (48, 20, 52), (48, 36, 60), (48, 55, 73), (48, 64, 80), (51, 68, 85), (52, 39, 65), (54, 72, 90), (55, 48, 73), (56, 33, 65), (56, 42, 70), (57, 76, 95), (60, 11, 61), (60, 25, 65), (60, 32, 68), (60, 45, 75), (60, 63, 87), (60, 80, 100), (63, 16, 65), (63, 60, 87), (64, 48, 80), (65, 72, 97), (68, 51, 85), (70, 24, 74), (72, 21, 75), (72, 30, 78), (72, 54, 90), (72, 65, 97), (75, 40, 85), (76, 57, 95), (77, 36, 85), (80, 18, 82), (80, 39, 89), (80, 60, 100), (84, 13, 85), (84, 35, 91), (96, 28, 100)]\n"
     ]
    }
   ],
   "source": [
    "def Pythagorean():\n",
    "    a=[]\n",
    "    for i in range(1,101) :\n",
    "        for j in range(1,101) :\n",
    "            for k in range(1,101) :\n",
    "                if (i**2+j**2==k**2) :\n",
    "                    a.append((i,j,k))\n",
    "    print(a)\n",
    "Pythagorean()"
   ]
  },
  {
   "cell_type": "markdown",
   "id": "79d99e0a",
   "metadata": {},
   "source": [
    "009"
   ]
  },
  {
   "cell_type": "code",
   "execution_count": 22,
   "id": "f90b9f59",
   "metadata": {},
   "outputs": [
    {
     "name": "stdout",
     "output_type": "stream",
     "text": [
      "[0.125]\n",
      "[0.125, 0.5]\n",
      "[0.125, 0.5, 0.375]\n"
     ]
    }
   ],
   "source": [
    "def Normalize(x):\n",
    "    a=[]\n",
    "    for i in range(len(x)):\n",
    "        b=x[i]/sum(x)\n",
    "        a.append(b)\n",
    "        print(a)\n",
    "Normalize([2,8,6])\n"
   ]
  }
 ],
 "metadata": {
  "kernelspec": {
   "display_name": "Python 3",
   "language": "python",
   "name": "python3"
  },
  "language_info": {
   "codemirror_mode": {
    "name": "ipython",
    "version": 3
   },
   "file_extension": ".py",
   "mimetype": "text/x-python",
   "name": "python",
   "nbconvert_exporter": "python",
   "pygments_lexer": "ipython3",
   "version": "3.8.8"
  }
 },
 "nbformat": 4,
 "nbformat_minor": 5
}
